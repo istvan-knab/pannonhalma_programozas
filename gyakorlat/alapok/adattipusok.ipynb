{
 "cells": [
  {
   "cell_type": "markdown",
   "source": [
    "# Adattípusok\n",
    "## Knáb István Gellért\n",
    "### SZTAKI\n",
    "### 2023.07.21.\n",
    "----------------------------------------------------------------------------------------------------------\n",
    "## Komment: ezek a sorok nem futnak le, csupán a fejlesztő segítségére vannak a kód magyarázása érdekében."
   ],
   "metadata": {
    "collapsed": false
   }
  },
  {
   "cell_type": "code",
   "execution_count": 1,
   "outputs": [
    {
     "data": {
      "text/plain": "'\\nTöbbsoros\\nkomment\\n'"
     },
     "execution_count": 1,
     "metadata": {},
     "output_type": "execute_result"
    }
   ],
   "source": [
    "# Egysoros komment\n",
    "\n",
    "\n",
    "\"\"\"\n",
    "Többsoros\n",
    "komment\n",
    "\"\"\""
   ],
   "metadata": {
    "collapsed": false,
    "ExecuteTime": {
     "end_time": "2023-08-01T18:28:35.425506832Z",
     "start_time": "2023-08-01T18:28:35.417274067Z"
    }
   }
  },
  {
   "cell_type": "markdown",
   "source": [
    "## String : Karakterláncok, szavak és betűkkel kifejezhető kifejezések tárolására alkalmas"
   ],
   "metadata": {
    "collapsed": false
   }
  },
  {
   "cell_type": "code",
   "execution_count": 2,
   "outputs": [
    {
     "name": "stdout",
     "output_type": "stream",
     "text": [
      "Ez az első stringem\n",
      "<class 'str'>\n"
     ]
    }
   ],
   "source": [
    "my_first_string = \"Ez az első stringem\"\n",
    "print(my_first_string)\n",
    "print(type(my_first_string))"
   ],
   "metadata": {
    "collapsed": false,
    "ExecuteTime": {
     "end_time": "2023-08-01T18:28:35.429569852Z",
     "start_time": "2023-08-01T18:28:35.419370547Z"
    }
   }
  },
  {
   "cell_type": "markdown",
   "source": [
    "\n",
    "## Numerikus típusok: számszerűen kifejezhető értékek\n",
    "\n",
    "###  Integer (int)"
   ],
   "metadata": {
    "collapsed": false
   }
  },
  {
   "cell_type": "code",
   "execution_count": 3,
   "outputs": [
    {
     "name": "stdout",
     "output_type": "stream",
     "text": [
      "429\n",
      "<class 'int'>\n"
     ]
    }
   ],
   "source": [
    "# Integer (int)\n",
    "my_first_int = 429\n",
    "print(my_first_int)\n",
    "print(type(my_first_int))"
   ],
   "metadata": {
    "collapsed": false,
    "ExecuteTime": {
     "end_time": "2023-08-01T18:28:35.429974131Z",
     "start_time": "2023-08-01T18:28:35.419663581Z"
    }
   }
  },
  {
   "cell_type": "markdown",
   "source": [
    "###  Float (float) : lebegőpontos számok, ezekkelé tudunk nem egész számokat ábrázolni"
   ],
   "metadata": {
    "collapsed": false
   }
  },
  {
   "cell_type": "code",
   "execution_count": 4,
   "outputs": [
    {
     "name": "stdout",
     "output_type": "stream",
     "text": [
      "6.9\n",
      "<class 'float'>\n"
     ]
    }
   ],
   "source": [
    "\n",
    "my_first_float = 6.9\n",
    "print(my_first_float)\n",
    "print(type(my_first_float))"
   ],
   "metadata": {
    "collapsed": false,
    "ExecuteTime": {
     "end_time": "2023-08-01T18:28:35.430238346Z",
     "start_time": "2023-08-01T18:28:35.419880144Z"
    }
   }
  },
  {
   "cell_type": "markdown",
   "source": [
    "## Boolean: bináris értékek reprezentációjára alkalmas leírás, logikai Igaz/Hamis"
   ],
   "metadata": {
    "collapsed": false
   }
  },
  {
   "cell_type": "code",
   "execution_count": 5,
   "outputs": [
    {
     "name": "stdout",
     "output_type": "stream",
     "text": [
      "True\n",
      "<class 'bool'>\n"
     ]
    }
   ],
   "source": [
    "my_first_bool = True\n",
    "print(my_first_bool)\n",
    "print(type(my_first_bool))"
   ],
   "metadata": {
    "collapsed": false,
    "ExecuteTime": {
     "end_time": "2023-08-01T18:28:35.430437783Z",
     "start_time": "2023-08-01T18:28:35.420094590Z"
    }
   }
  },
  {
   "cell_type": "markdown",
   "source": [
    "## List : összetartozó adatok egy változóban tárolása, indexeléssel hivatkozva az egyes elemeire"
   ],
   "metadata": {
    "collapsed": false
   }
  },
  {
   "cell_type": "code",
   "execution_count": 6,
   "outputs": [
    {
     "name": "stdout",
     "output_type": "stream",
     "text": [
      "[1, 2, 'szo1', 'szo2', True, False]\n",
      "szo1\n",
      "<class 'list'>\n"
     ]
    }
   ],
   "source": [
    "my_first_list = [1, 2, \"szo1\",\n",
    "                 \"szo2\", True, False]\n",
    "print(my_first_list)\n",
    "print(my_first_list[2])\n",
    "# Miért a harmadik elemet adja vissza?\n",
    "print(type(my_first_list))"
   ],
   "metadata": {
    "collapsed": false,
    "ExecuteTime": {
     "end_time": "2023-08-01T18:28:35.430664137Z",
     "start_time": "2023-08-01T18:28:35.424527252Z"
    }
   }
  },
  {
   "cell_type": "markdown",
   "source": [
    "## Tuple: listához hasonló, viszont elemei a létrehozás után nem változtathatók, nagyobb sebesség"
   ],
   "metadata": {
    "collapsed": false
   }
  },
  {
   "cell_type": "code",
   "execution_count": 7,
   "outputs": [
    {
     "name": "stdout",
     "output_type": "stream",
     "text": [
      "('szo1', 'szo2', 1, 2, False, True)\n",
      "<class 'tuple'>\n"
     ]
    }
   ],
   "source": [
    "my_first_tuple = (\"szo1\", \"szo2\", 1,\n",
    "                  2, False, True)\n",
    "print(my_first_tuple)\n",
    "print(type(my_first_tuple))"
   ],
   "metadata": {
    "collapsed": false,
    "ExecuteTime": {
     "end_time": "2023-08-01T18:28:35.430888898Z",
     "start_time": "2023-08-01T18:28:35.425842083Z"
    }
   }
  },
  {
   "cell_type": "markdown",
   "source": [
    "## Dictionary : adatpárok, kulcsokkal hívható adatok esetén, nem indexelve"
   ],
   "metadata": {
    "collapsed": false
   }
  },
  {
   "cell_type": "code",
   "execution_count": 8,
   "outputs": [
    {
     "name": "stdout",
     "output_type": "stream",
     "text": [
      "{'tanulo_1': 3, 'tanulo_2': 2, 'tanulo_3': 5, 'tanulo_4': 2, 'tanulo_5': 5, 'tanulo_6': 1}\n",
      "1\n",
      "<class 'dict'>\n"
     ]
    }
   ],
   "source": [
    "my_dict = {\"tanulo_1\": 3,\n",
    "           \"tanulo_2\": 2,\n",
    "           \"tanulo_3\": 5,\n",
    "           \"tanulo_4\": 2,\n",
    "           \"tanulo_5\": 5,\n",
    "           \"tanulo_6\": 1,\n",
    "           }\n",
    "print(my_dict)\n",
    "print(my_dict[\"tanulo_6\"])\n",
    "print(type(my_dict))"
   ],
   "metadata": {
    "collapsed": false,
    "ExecuteTime": {
     "end_time": "2023-08-01T18:28:35.565067726Z",
     "start_time": "2023-08-01T18:28:35.426232046Z"
    }
   }
  },
  {
   "cell_type": "code",
   "execution_count": 8,
   "outputs": [],
   "source": [],
   "metadata": {
    "collapsed": false,
    "ExecuteTime": {
     "end_time": "2023-08-01T18:28:35.568218248Z",
     "start_time": "2023-08-01T18:28:35.464030589Z"
    }
   }
  }
 ],
 "metadata": {
  "kernelspec": {
   "display_name": "Python 3",
   "language": "python",
   "name": "python3"
  },
  "language_info": {
   "codemirror_mode": {
    "name": "ipython",
    "version": 2
   },
   "file_extension": ".py",
   "mimetype": "text/x-python",
   "name": "python",
   "nbconvert_exporter": "python",
   "pygments_lexer": "ipython2",
   "version": "2.7.6"
  }
 },
 "nbformat": 4,
 "nbformat_minor": 0
}
