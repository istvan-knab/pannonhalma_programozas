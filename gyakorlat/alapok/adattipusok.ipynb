{
 "cells": [
  {
   "cell_type": "markdown",
   "source": [
    "# Adattípusok\n",
    "## Knáb István Gellért\n",
    "### SZTAKI\n",
    "### 2023.07.21.\n",
    "----------------------------------------------------------------------------------------------------------\n",
    "## Komment: ezek a sorok nem futnak le, csupán a fejlesztő segítségére vannak a kód magyarázása érdekében."
   ],
   "metadata": {
    "collapsed": false
   }
  },
  {
   "cell_type": "code",
   "execution_count": null,
   "outputs": [],
   "source": [
    "# Egysoros komment\n",
    "\n",
    "\n",
    "\"\"\"\n",
    "Többsoros\n",
    "komment\n",
    "\"\"\""
   ],
   "metadata": {
    "collapsed": false,
    "is_executing": true
   }
  },
  {
   "cell_type": "markdown",
   "source": [
    "## String : Karakterláncok, szavak és betűkkel kifejezhető kifejezések tárolására alkalmas"
   ],
   "metadata": {
    "collapsed": false
   }
  },
  {
   "cell_type": "code",
   "execution_count": null,
   "outputs": [],
   "source": [
    "my_first_string = \"Ez az első stringem\"\n",
    "print(my_first_string)\n",
    "print(type(my_first_string))"
   ],
   "metadata": {
    "collapsed": false,
    "is_executing": true
   }
  },
  {
   "cell_type": "markdown",
   "source": [
    "\n",
    "## Numerikus típusok: számszerűen kifejezhető értékek\n",
    "\n",
    "###  Integer (int)"
   ],
   "metadata": {
    "collapsed": false
   }
  },
  {
   "cell_type": "code",
   "execution_count": null,
   "outputs": [],
   "source": [
    "# Integer (int)\n",
    "my_first_int = 429\n",
    "print(my_first_int)\n",
    "print(type(my_first_int))"
   ],
   "metadata": {
    "collapsed": false,
    "is_executing": true
   }
  },
  {
   "cell_type": "markdown",
   "source": [
    "###  Float (float) : lebegőpontos számok, ezekkelé tudunk nem egész számokat ábrázolni"
   ],
   "metadata": {
    "collapsed": false
   }
  },
  {
   "cell_type": "code",
   "execution_count": null,
   "outputs": [],
   "source": [
    "\n",
    "my_first_float = 6.9\n",
    "print(my_first_float)\n",
    "print(type(my_first_float))"
   ],
   "metadata": {
    "collapsed": false,
    "is_executing": true
   }
  },
  {
   "cell_type": "markdown",
   "source": [
    "## Boolean: bináris értékek reprezentációjára alkalmas leírás, logikai Igaz/Hamis"
   ],
   "metadata": {
    "collapsed": false
   }
  },
  {
   "cell_type": "code",
   "execution_count": null,
   "outputs": [],
   "source": [
    "my_first_bool = True\n",
    "print(my_first_bool)\n",
    "print(type(my_first_bool))"
   ],
   "metadata": {
    "collapsed": false,
    "is_executing": true
   }
  },
  {
   "cell_type": "markdown",
   "source": [
    "## List : összetartozó adatok egy változóban tárolása, indexeléssel hivatkozva az egyes elemeire"
   ],
   "metadata": {
    "collapsed": false
   }
  },
  {
   "cell_type": "code",
   "execution_count": null,
   "outputs": [],
   "source": [
    "my_first_list = [1, 2, \"szo1\",\n",
    "                 \"szo2\", True, False]\n",
    "print(my_first_list)\n",
    "print(my_first_list[2])\n",
    "# Miért a harmadik elemet adja vissza?\n",
    "print(type(my_first_list))"
   ],
   "metadata": {
    "collapsed": false,
    "is_executing": true
   }
  },
  {
   "cell_type": "markdown",
   "source": [
    "## Tuple: listához hasonló, viszont elemei a létrehozás után nem változtathatók, nagyobb sebesség"
   ],
   "metadata": {
    "collapsed": false
   }
  },
  {
   "cell_type": "code",
   "execution_count": null,
   "outputs": [],
   "source": [
    "my_first_tuple = (\"szo1\", \"szo2\", 1,\n",
    "                  2, False, True)\n",
    "print(my_first_tuple)\n",
    "print(type(my_first_tuple))"
   ],
   "metadata": {
    "collapsed": false,
    "is_executing": true
   }
  },
  {
   "cell_type": "markdown",
   "source": [
    "## Dictionary : adatpárok, kulcsokkal hívható adatok esetén, nem indexelve"
   ],
   "metadata": {
    "collapsed": false
   }
  },
  {
   "cell_type": "code",
   "execution_count": null,
   "outputs": [],
   "source": [
    "my_dict = {\"tanulo_1\": 3,\n",
    "           \"tanulo_2\": 2,\n",
    "           \"tanulo_3\": 5,\n",
    "           \"tanulo_4\": 2,\n",
    "           \"tanulo_5\": 5,\n",
    "           \"tanulo_6\": 1,\n",
    "           }\n",
    "print(my_dict)\n",
    "print(my_dict[\"tanulo_6\"])\n",
    "print(type(my_dict))"
   ],
   "metadata": {
    "collapsed": false,
    "is_executing": true
   }
  },
  {
   "cell_type": "markdown",
   "source": [
    "# Program futása\n",
    "## Turtle\n",
    "### Modulok importálása"
   ],
   "metadata": {
    "collapsed": false
   }
  },
  {
   "cell_type": "code",
   "execution_count": null,
   "outputs": [],
   "source": [
    "import turtle"
   ],
   "metadata": {
    "collapsed": false,
    "is_executing": true
   }
  },
  {
   "cell_type": "markdown",
   "source": [
    "# Modul függvényének hívása"
   ],
   "metadata": {
    "collapsed": false
   }
  },
  {
   "cell_type": "code",
   "execution_count": null,
   "outputs": [],
   "source": [
    "turtle.forward(100)"
   ],
   "metadata": {
    "collapsed": false,
    "is_executing": true
   }
  }
 ],
 "metadata": {
  "kernelspec": {
   "display_name": "Python 3",
   "language": "python",
   "name": "python3"
  },
  "language_info": {
   "codemirror_mode": {
    "name": "ipython",
    "version": 2
   },
   "file_extension": ".py",
   "mimetype": "text/x-python",
   "name": "python",
   "nbconvert_exporter": "python",
   "pygments_lexer": "ipython2",
   "version": "2.7.6"
  }
 },
 "nbformat": 4,
 "nbformat_minor": 0
}
