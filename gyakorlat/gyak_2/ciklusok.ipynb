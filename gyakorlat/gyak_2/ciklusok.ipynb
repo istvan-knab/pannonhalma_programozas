{
 "cells": [
  {
   "cell_type": "markdown",
   "source": [
    "# Ciklusok\n",
    "## Knáb István Gellért\n",
    "### SZTAKI\n",
    "### 2023.07.21.\n",
    "----------------------------------------------------------------------------------------------------------\n",
    "## Típusok\n",
    "### For\n",
    "### While"
   ],
   "metadata": {
    "collapsed": false
   }
  },
  {
   "cell_type": "markdown",
   "source": [
    "## For loop\n",
    "### Meghatározott számmal lefutó ciklus"
   ],
   "metadata": {
    "collapsed": false
   }
  },
  {
   "cell_type": "code",
   "execution_count": null,
   "outputs": [],
   "source": [
    "number_of_iterations = 10\n",
    "\n",
    "for i in range(number_of_iterations):\n",
    "    print(i)"
   ],
   "metadata": {
    "collapsed": false,
    "is_executing": true
   }
  },
  {
   "cell_type": "markdown",
   "source": [
    "### Egy lista elemein végig"
   ],
   "metadata": {
    "collapsed": false
   }
  },
  {
   "cell_type": "code",
   "execution_count": null,
   "outputs": [],
   "source": [
    "my_list = [0,3,5,2,6,8,4,9,3,5]\n",
    "for i in range(len(my_list)):\n",
    "    print(my_list[i])     "
   ],
   "metadata": {
    "collapsed": false,
    "is_executing": true
   }
  },
  {
   "cell_type": "markdown",
   "source": [
    "## While loop\n"
   ],
   "metadata": {
    "collapsed": false
   }
  },
  {
   "cell_type": "code",
   "execution_count": null,
   "outputs": [],
   "source": [],
   "metadata": {
    "collapsed": false,
    "is_executing": true
   }
  }
 ],
 "metadata": {
  "kernelspec": {
   "display_name": "Python 3",
   "language": "python",
   "name": "python3"
  },
  "language_info": {
   "codemirror_mode": {
    "name": "ipython",
    "version": 2
   },
   "file_extension": ".py",
   "mimetype": "text/x-python",
   "name": "python",
   "nbconvert_exporter": "python",
   "pygments_lexer": "ipython2",
   "version": "2.7.6"
  }
 },
 "nbformat": 4,
 "nbformat_minor": 0
}
