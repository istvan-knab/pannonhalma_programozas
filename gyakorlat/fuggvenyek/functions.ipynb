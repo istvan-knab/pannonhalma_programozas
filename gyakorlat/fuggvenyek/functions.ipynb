{
 "cells": [
  {
   "cell_type": "markdown",
   "source": [
    "# Ciklusok\n",
    "## Knáb István Gellért\n",
    "### SZTAKI\n",
    "### 2023.07.21."
   ],
   "metadata": {
    "collapsed": false
   },
   "id": "d009e5f63e50416"
  },
  {
   "cell_type": "code",
   "execution_count": null,
   "outputs": [],
   "source": [
    "def square(input_var):\n",
    "    output = pow(input_var)\n",
    "    \n",
    "    return output\n",
    "\n",
    "result = square(45)\n",
    "print(result)"
   ],
   "metadata": {
    "collapsed": false,
    "is_executing": true
   },
   "id": "7254282ddb677f6d"
  },
  {
   "cell_type": "markdown",
   "source": [
    "### Type hint"
   ],
   "metadata": {
    "collapsed": false
   },
   "id": "4af1281fa6a7480f"
  },
  {
   "cell_type": "code",
   "execution_count": null,
   "outputs": [],
   "source": [
    "def square(input_var: int) -> int:\n",
    "    output = pow(input_var)\n",
    "    \n",
    "    return output\n",
    "\n",
    "result = square(45)\n",
    "print(result)"
   ],
   "metadata": {
    "collapsed": false,
    "is_executing": true
   },
   "id": "679071637bf1b074"
  },
  {
   "cell_type": "markdown",
   "source": [
    "### Docstring"
   ],
   "metadata": {
    "collapsed": false
   },
   "id": "e18054936c8b591"
  },
  {
   "cell_type": "code",
   "execution_count": null,
   "outputs": [],
   "source": [
    "### Type hint\n",
    "def square(input_var: int) -> int:\n",
    "    \"\"\"\n",
    "    This function is responsible to square the input parameter\n",
    "    :param input_var: this variable will be squared\n",
    "    :return: this is our result\n",
    "    \"\"\"\n",
    "    output = pow(input_var)\n",
    "\n",
    "    return output\n",
    "\n",
    "\n",
    "result = square(45)\n",
    "print(result)"
   ],
   "metadata": {
    "collapsed": false,
    "is_executing": true
   },
   "id": "fb9ead695017091e"
  },
  {
   "cell_type": "markdown",
   "source": [
    "## Multiple IO\n"
   ],
   "metadata": {
    "collapsed": false
   },
   "id": "4855331d649d5544"
  },
  {
   "cell_type": "code",
   "execution_count": null,
   "outputs": [],
   "source": [
    "def two_numbers(input_1 : int, input_2 : int) -> int:\n",
    "    \"\"\"\n",
    "    \n",
    "    :param input_1: first input variable\n",
    "    :param input_2: second input variable\n",
    "    :return: 3 parameters which are integers\n",
    "    \"\"\"\n",
    "    sum = input_1 + input_2\n",
    "    prod = input_1 * input_2\n",
    "    div = input_1 / input_2\n",
    "    \n",
    "    return sum, prod, div"
   ],
   "metadata": {
    "collapsed": false,
    "is_executing": true
   },
   "id": "68eb18f19e5d6510"
  },
  {
   "cell_type": "markdown",
   "source": [
    "## Default values"
   ],
   "metadata": {
    "collapsed": false
   },
   "id": "c9c5cf7664c623e4"
  },
  {
   "cell_type": "code",
   "execution_count": null,
   "outputs": [],
   "source": [
    "def introduce( name = 'Isti') -> None:\n",
    "    print(f\"Hello, my name is {name}\")\n",
    "    \n",
    "introduce()"
   ],
   "metadata": {
    "collapsed": false,
    "is_executing": true
   },
   "id": "e2df23edfd9e4338"
  }
 ],
 "metadata": {
  "kernelspec": {
   "display_name": "Python 3",
   "language": "python",
   "name": "python3"
  },
  "language_info": {
   "codemirror_mode": {
    "name": "ipython",
    "version": 2
   },
   "file_extension": ".py",
   "mimetype": "text/x-python",
   "name": "python",
   "nbconvert_exporter": "python",
   "pygments_lexer": "ipython2",
   "version": "2.7.6"
  }
 },
 "nbformat": 4,
 "nbformat_minor": 5
}
