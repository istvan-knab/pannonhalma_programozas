{
 "cells": [
  {
   "cell_type": "markdown",
   "source": [
    "# Adattípusok\n",
    "## Knáb István Gellért\n",
    "### SZTAKI\n",
    "### 2023.07.21.\n",
    "----------------------------------------------------------------------------------------------------------\n",
    "## Komment: ezek a sorok nem futnak le, csupán a fejlesztő segítségére vannak a kód magyarázása érdekében."
   ],
   "metadata": {
    "collapsed": false
   }
  },
  {
   "cell_type": "code",
   "execution_count": 37,
   "outputs": [],
   "source": [
    "# Egysoros komment\n",
    "\n",
    "\n",
    "\"\"\"\n",
    "Többsoros\n",
    "komment\n",
    "\"\"\""
   ],
   "metadata": {
    "collapsed": false,
    "ExecuteTime": {
     "end_time": "2023-08-01T17:36:42.292329200Z",
     "start_time": "2023-08-01T17:36:42.275510122Z"
    }
   }
  },
  {
   "cell_type": "markdown",
   "source": [
    "## String : Karakterláncok, szavak és betűkkel kifejezhető kifejezések tárolására alkalmas"
   ],
   "metadata": {
    "collapsed": false
   }
  },
  {
   "cell_type": "code",
   "execution_count": 38,
   "outputs": [
    {
     "name": "stdout",
     "output_type": "stream",
     "text": [
      "Ez az első stringem\n",
      "<class 'str'>\n"
     ]
    }
   ],
   "source": [
    "my_first_string = \"Ez az első stringem\"\n",
    "print(my_first_string)\n",
    "print(type(my_first_string))"
   ],
   "metadata": {
    "collapsed": false,
    "ExecuteTime": {
     "end_time": "2023-08-01T17:36:42.292879468Z",
     "start_time": "2023-08-01T17:36:42.279355076Z"
    }
   }
  },
  {
   "cell_type": "markdown",
   "source": [
    "\n",
    "## Numerikus típusok: számszerűen kifejezhető értékek\n",
    "\n",
    "###  Integer (int)"
   ],
   "metadata": {
    "collapsed": false
   }
  },
  {
   "cell_type": "code",
   "execution_count": 39,
   "outputs": [
    {
     "name": "stdout",
     "output_type": "stream",
     "text": [
      "429\n",
      "<class 'int'>\n"
     ]
    }
   ],
   "source": [
    "# Integer (int)\n",
    "my_first_int = 429\n",
    "print(my_first_int)\n",
    "print(type(my_first_int))"
   ],
   "metadata": {
    "collapsed": false,
    "ExecuteTime": {
     "end_time": "2023-08-01T17:36:42.293254715Z",
     "start_time": "2023-08-01T17:36:42.284153183Z"
    }
   }
  },
  {
   "cell_type": "markdown",
   "source": [
    "###  Float (float) : lebegőpontos számok, ezekkelé tudunk nem egész számokat ábrázolni"
   ],
   "metadata": {
    "collapsed": false
   }
  },
  {
   "cell_type": "code",
   "execution_count": 40,
   "outputs": [
    {
     "name": "stdout",
     "output_type": "stream",
     "text": [
      "6.9\n",
      "<class 'float'>\n"
     ]
    }
   ],
   "source": [
    "\n",
    "my_first_float = 6.9\n",
    "print(my_first_float)\n",
    "print(type(my_first_float))"
   ],
   "metadata": {
    "collapsed": false,
    "ExecuteTime": {
     "end_time": "2023-08-01T17:36:42.329765436Z",
     "start_time": "2023-08-01T17:36:42.286699287Z"
    }
   }
  },
  {
   "cell_type": "markdown",
   "source": [
    "## Boolean: bináris értékek reprezentációjára alkalmas leírás, logikai Igaz/Hamis"
   ],
   "metadata": {
    "collapsed": false
   }
  },
  {
   "cell_type": "code",
   "execution_count": 41,
   "outputs": [
    {
     "name": "stdout",
     "output_type": "stream",
     "text": [
      "True\n",
      "<class 'bool'>\n"
     ]
    }
   ],
   "source": [
    "my_first_bool = True\n",
    "print(my_first_bool)\n",
    "print(type(my_first_bool))"
   ],
   "metadata": {
    "collapsed": false,
    "ExecuteTime": {
     "end_time": "2023-08-01T17:36:42.333917754Z",
     "start_time": "2023-08-01T17:36:42.328514250Z"
    }
   }
  },
  {
   "cell_type": "markdown",
   "source": [
    "## List : összetartozó adatok egy változóban tárolása, indexeléssel hivatkozva az egyes elemeire"
   ],
   "metadata": {
    "collapsed": false
   }
  },
  {
   "cell_type": "code",
   "execution_count": 42,
   "outputs": [
    {
     "name": "stdout",
     "output_type": "stream",
     "text": [
      "[1, 2, 'szo1', 'szo2', True, False]\n",
      "<class 'list'>\n"
     ]
    }
   ],
   "source": [
    "my_first_list = [1, 2, \"szo1\",\n",
    "                 \"szo2\", True, False]\n",
    "print(my_first_list)\n",
    "print(type(my_first_list))"
   ],
   "metadata": {
    "collapsed": false,
    "ExecuteTime": {
     "end_time": "2023-08-01T17:36:42.334294485Z",
     "start_time": "2023-08-01T17:36:42.328821356Z"
    }
   }
  },
  {
   "cell_type": "markdown",
   "source": [
    "## Tuple: listához hasonló, viszont elemei a létrehozás után nem változtathatók, nagyobb sebesség"
   ],
   "metadata": {
    "collapsed": false
   }
  },
  {
   "cell_type": "code",
   "execution_count": 43,
   "outputs": [
    {
     "name": "stdout",
     "output_type": "stream",
     "text": [
      "('szo1', 'szo2', 1, 2, False, True)\n",
      "<class 'tuple'>\n"
     ]
    }
   ],
   "source": [
    "my_first_tuple = (\"szo1\", \"szo2\", 1,\n",
    "                  2, False, True)\n",
    "print(my_first_tuple)\n",
    "print(type(my_first_tuple))"
   ],
   "metadata": {
    "collapsed": false,
    "ExecuteTime": {
     "end_time": "2023-08-01T17:36:42.334559037Z",
     "start_time": "2023-08-01T17:36:42.329039279Z"
    }
   }
  }
 ],
 "metadata": {
  "kernelspec": {
   "display_name": "Python 3",
   "language": "python",
   "name": "python3"
  },
  "language_info": {
   "codemirror_mode": {
    "name": "ipython",
    "version": 2
   },
   "file_extension": ".py",
   "mimetype": "text/x-python",
   "name": "python",
   "nbconvert_exporter": "python",
   "pygments_lexer": "ipython2",
   "version": "2.7.6"
  }
 },
 "nbformat": 4,
 "nbformat_minor": 0
}
